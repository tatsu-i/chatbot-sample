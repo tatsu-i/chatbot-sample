{
  "nbformat": 4,
  "nbformat_minor": 0,
  "metadata": {
    "colab": {
      "provenance": []
    },
    "kernelspec": {
      "name": "python3",
      "display_name": "Python 3"
    },
    "language_info": {
      "name": "python"
    }
  },
  "cells": [
    {
      "cell_type": "markdown",
      "source": [
        "# ChatGPTで社内チャットボットを作成する方法"
      ],
      "metadata": {
        "id": "2Db0SIvJdcK4"
      }
    },
    {
      "cell_type": "code",
      "execution_count": 1,
      "metadata": {
        "colab": {
          "base_uri": "https://localhost:8080/"
        },
        "id": "xw9y5v9P4ZrD",
        "outputId": "52b60372-8dfd-4980-eeb7-e54aa83e3611"
      },
      "outputs": [
        {
          "output_type": "stream",
          "name": "stdout",
          "text": [
            "Mounted at /content/drive\n"
          ]
        }
      ],
      "source": [
        "#@title 1. Googleドライブに接続\n",
        "from IPython.display import Markdown, display\n",
        "from google.colab import drive\n",
        "import os\n",
        "drive.mount('/content/drive', force_remount=True)\n",
        "DRIVE_BASE_DIR = \"/content/drive/MyDrive\" # Myドライブの場所\n",
        "os.chdir(DRIVE_BASE_DIR)"
      ]
    },
    {
      "cell_type": "code",
      "source": [
        "#@title 2. 必要なライブラリのインストール\n",
        "!pip install openai langchain faiss-cpu bs4 libmagic pdfminer.six unstructured[local-inference]"
      ],
      "metadata": {
        "id": "NMsKBCpF530t"
      },
      "execution_count": null,
      "outputs": []
    },
    {
      "cell_type": "code",
      "source": [
        "#@title 3. Remixのソースコードを取得\n",
        "!rm -rf remix\n",
        "!git clone https://github.com/remix-run/remix\n",
        "!rm -rf remix/.git"
      ],
      "metadata": {
        "colab": {
          "base_uri": "https://localhost:8080/"
        },
        "id": "lEw8plRp9rlC",
        "outputId": "31b5a3dc-9d81-47af-a7fa-8d6024e8c299"
      },
      "execution_count": 37,
      "outputs": [
        {
          "output_type": "stream",
          "name": "stdout",
          "text": [
            "Cloning into 'remix'...\n",
            "remote: Enumerating objects: 103145, done.\u001b[K\n",
            "remote: Counting objects: 100% (778/778), done.\u001b[K\n",
            "remote: Compressing objects: 100% (434/434), done.\u001b[K\n",
            "remote: Total 103145 (delta 466), reused 562 (delta 344), pack-reused 102367\u001b[K\n",
            "Receiving objects: 100% (103145/103145), 34.55 MiB | 9.79 MiB/s, done.\n",
            "Resolving deltas: 100% (88308/88308), done.\n",
            "Updating files: 100% (903/903), done.\n"
          ]
        }
      ]
    },
    {
      "cell_type": "code",
      "source": [
        "#@title 4. テキストファイルから学習する\n",
        "import pickle\n",
        "\n",
        "from langchain.document_loaders import DirectoryLoader, TextLoader, ReadTheDocsLoader\n",
        "from langchain.document_loaders.pdf import (\n",
        "    PDFMinerLoader,\n",
        "    PyMuPDFLoader,\n",
        "    UnstructuredPDFLoader,\n",
        ")\n",
        "from langchain.document_loaders.html import UnstructuredHTMLLoader\n",
        "from langchain.embeddings import OpenAIEmbeddings\n",
        "from langchain.text_splitter import RecursiveCharacterTextSplitter\n",
        "from langchain.vectorstores.faiss import FAISS\n",
        "import os\n",
        "\n",
        "openai_api_key= \"\\u003COPENAI API KEY>\" #@param {'type': 'string'}\n",
        "os.environ[\"OPENAI_API_KEY\"] = openai_api_key\n",
        "vectorstore_file= \"vectorstore\" #@param {'type': 'string'}\n",
        "\n",
        "\n",
        "def ingest_docs(dir_name):\n",
        "    text_splitter = RecursiveCharacterTextSplitter(\n",
        "        chunk_size=800,\n",
        "        chunk_overlap=200,\n",
        "    )\n",
        "    raw_documents = []\n",
        "    for loader_cls in [TextLoader, PDFMinerLoader]:\n",
        "        loader = DirectoryLoader(dir_name, loader_cls=loader_cls, silent_errors=True)\n",
        "        raw_documents += loader.load()\n",
        "    documents = text_splitter.split_documents(raw_documents)\n",
        "    embeddings = OpenAIEmbeddings()\n",
        "    vectorstore = FAISS.from_documents(documents, embeddings)\n",
        "\n",
        "    # Save vectorstore\n",
        "    with open(f\"{vectorstore_file}.pkl\", \"wb\") as f:\n",
        "        pickle.dump(vectorstore, f)\n",
        "\n",
        "dir_name = \"remix\" #@param {'type': 'string'}\n",
        "ingest_docs(dir_name)"
      ],
      "metadata": {
        "id": "WFYvPqVC50Ju",
        "cellView": "form"
      },
      "execution_count": null,
      "outputs": []
    },
    {
      "cell_type": "code",
      "source": [
        "#@title 5. モデルの読み込みとLLMChainの準備\n",
        "from langchain.chains.llm import LLMChain\n",
        "from langchain.callbacks.base import CallbackManager\n",
        "from langchain.callbacks.streaming_stdout import StreamingStdOutCallbackHandler\n",
        "from langchain.callbacks.openai_info import OpenAICallbackHandler\n",
        "from langchain.chains.chat_vector_db.prompts import CONDENSE_QUESTION_PROMPT, QA_PROMPT\n",
        "from langchain.chains.question_answering import load_qa_chain\n",
        "from langchain.llms import OpenAIChat\n",
        "from langchain.vectorstores.base import VectorStore\n",
        "from langchain.chains import ChatVectorDBChain\n",
        "\n",
        "vectorstore_file= \"vectorstore\" #@param {'type': 'string'}\n",
        "with open(f\"{vectorstore_file}.pkl\", \"rb\") as f:\n",
        "    vectorstore = pickle.load(f)\n",
        "\n",
        "manager = CallbackManager([StreamingStdOutCallbackHandler(), OpenAICallbackHandler()])\n",
        "\n",
        "streaming_llm = OpenAIChat(streaming=True, callback_manager=manager, verbose=True, temperature=0)\n",
        "question_gen_llm = OpenAIChat(temperature=0, verbose=True, callback_manager=manager)\n",
        "\n",
        "question_generator = LLMChain(llm=question_gen_llm, prompt=CONDENSE_QUESTION_PROMPT)\n",
        "doc_chain = load_qa_chain(streaming_llm, chain_type=\"stuff\", prompt=QA_PROMPT)\n",
        "\n",
        "chat_history = []\n",
        "qa = ChatVectorDBChain(vectorstore=vectorstore, combine_docs_chain=doc_chain, question_generator=question_generator)"
      ],
      "metadata": {
        "id": "LsmgJTtPA4QB",
        "cellView": "form"
      },
      "execution_count": 45,
      "outputs": []
    },
    {
      "cell_type": "markdown",
      "source": [
        "### 6. 質問してみる"
      ],
      "metadata": {
        "id": "jg2dQ8V6d7ff"
      }
    },
    {
      "cell_type": "code",
      "source": [
        "chat_history = []\n",
        "question = \"remixは既存のフレームワークと何が違うのですか？日本語で箇条書きにしてくださ\"\n",
        "display(Markdown(f\"# 1. [質問] \\n## {question}\"))\n",
        "display(Markdown(\"# 2. [回答]\"))\n",
        "result = qa({\"question\": question, \"chat_history\": chat_history})\n",
        "#chat_history.append((question, result[\"answer\"]))\n",
        "\n",
        "display(Markdown(\"# 3. [類似のコンテキスト]\"))\n",
        "for context in vectorstore.similarity_search(question):\n",
        "    display(Markdown(context.page_content))"
      ],
      "metadata": {
        "colab": {
          "base_uri": "https://localhost:8080/",
          "height": 883
        },
        "id": "PZITyaMenaOy",
        "outputId": "baf0afdf-8ef9-4a6d-9721-0715ad9531ab"
      },
      "execution_count": 46,
      "outputs": [
        {
          "output_type": "display_data",
          "data": {
            "text/plain": [
              "<IPython.core.display.Markdown object>"
            ],
            "text/markdown": "# 1. [質問] \n## remixは既存のフレームワークと何が違うのですか？日本語で箇条書きにしてくださ"
          },
          "metadata": {}
        },
        {
          "output_type": "display_data",
          "data": {
            "text/plain": [
              "<IPython.core.display.Markdown object>"
            ],
            "text/markdown": "# 2. [回答]"
          },
          "metadata": {}
        },
        {
          "output_type": "stream",
          "name": "stdout",
          "text": [
            "- Remixは、標準的なAPIを使用しやすくすることを目的としています。\n",
            "- Remixは、Web開発全般について学ぶことができます。\n",
            "- Remixは、ViewとControllerの役割を担うフレームワークです。\n",
            "- Remixは、モデルについてはユーザーに任せています。\n",
            "- Remixは、Fetch APIに関するヘルパーを提供しています。\n",
            "- Remixは、Node.jsサーバーおよびCloudflare Workersなどの非Node.js環境にデプロイできます。"
          ]
        },
        {
          "output_type": "display_data",
          "data": {
            "text/plain": [
              "<IPython.core.display.Markdown object>"
            ],
            "text/markdown": "# 3. [類似のコンテキスト]"
          },
          "metadata": {}
        },
        {
          "output_type": "display_data",
          "data": {
            "text/plain": [
              "<IPython.core.display.Markdown object>"
            ],
            "text/markdown": "Remix's job is to cross the center of the stack and then get out of your way. We avoid as many \"Remixisms\" as possible and instead make it easier to use the standard APIs the web already has.\n\nThis one is more for us. We've been educators for the 5 years before Remix. Our tagline is _Build Better Websites_. We also think of it with a little extra on the end: _Build Better Websites, Sometimes with Remix_. If you get good at Remix, you will accidentally get good at web development in general.\n\nRemix's APIs make it convenient to use the fundamental Browser/HTTP/JavaScript, but those technologies are not hidden from you."
          },
          "metadata": {}
        },
        {
          "output_type": "display_data",
          "data": {
            "text/plain": [
              "<IPython.core.display.Markdown object>"
            ],
            "text/markdown": "[git-hub]: https://github.com/remix-run/remix"
          },
          "metadata": {}
        },
        {
          "output_type": "display_data",
          "data": {
            "text/plain": [
              "<IPython.core.display.Markdown object>"
            ],
            "text/markdown": "Additionally, if Remix doesn't have an adapter for your server already, you can look at the source of one of the adapters and build your own.\n\n## Server Framework\n\nIf you're familiar with server-side MVC web frameworks like Rails and Laravel, Remix is the View and Controller, but it leaves the Model up to you. There are a lot of great databases, ORMs, mailers, etc. in the JavaScript ecosystem to fill that space. Remix also has helpers around the Fetch API for cookie and session management.\n\nInstead of having a split between View and Controller, Remix Route modules take on both responsibilities.\n\nMost server-side frameworks are \"model focused\". A controller manages _multiple URLs_ for a single model."
          },
          "metadata": {}
        },
        {
          "output_type": "display_data",
          "data": {
            "text/plain": [
              "<IPython.core.display.Markdown object>"
            ],
            "text/markdown": "# Welcome to Remix!\n\nWe are happy you're here!\n\n[Remix](https://remix.run) is a full stack web framework that lets you focus on the user interface and work back through web fundamentals to deliver a fast, slick, and resilient user experience that deploys to any Node.js server and even non-Node.js environments at the edge like Cloudflare Workers.\n\nWant to know more? Read the [Technical Explanation of Remix](https://remix.run/pages/technical-explanation)\n\nThis repository contains the Remix source code. This repo is a work in progress, so we appreciate your patience as we figure things out.\n\n## Documentation\n\nFor documentation about Remix, please visit [our website](https://remix.run/docs).\n\nAlso, please [join our community on Discord](https://rmx.as/discord)."
          },
          "metadata": {}
        }
      ]
    },
    {
      "cell_type": "code",
      "source": [
        "chat_history = []\n",
        "question = \"remixのディレクトリ階層を教えてください。\"\n",
        "display(Markdown(f\"# 1. [質問] \\n## {question}\"))\n",
        "display(Markdown(\"# 2. [回答]\"))\n",
        "result = qa({\"question\": question, \"chat_history\": chat_history})\n",
        "#chat_history.append((question, result[\"answer\"]))\n",
        "\n",
        "display(Markdown(\"# 3. [類似のコンテキスト]\"))\n",
        "for context in vectorstore.similarity_search(question):\n",
        "    display(Markdown(context.page_content))"
      ],
      "metadata": {
        "colab": {
          "base_uri": "https://localhost:8080/",
          "height": 1000
        },
        "id": "N3OpFzc-D_0R",
        "outputId": "6b045b94-3469-49ee-9dab-a2eabbdd0d92"
      },
      "execution_count": 43,
      "outputs": [
        {
          "output_type": "display_data",
          "data": {
            "text/plain": [
              "<IPython.core.display.Markdown object>"
            ],
            "text/markdown": "# 1. [質問] \n## remixのディレクトリ階層を教えてください。"
          },
          "metadata": {}
        },
        {
          "output_type": "display_data",
          "data": {
            "text/plain": [
              "<IPython.core.display.Markdown object>"
            ],
            "text/markdown": "# 2. [回答]"
          },
          "metadata": {}
        },
        {
          "output_type": "stream",
          "name": "stdout",
          "text": [
            "remix-jokes\n",
            "├── README.md\n",
            "├── app\n",
            "│   ├── entry.client.tsx\n",
            "│   ├── entry.server.tsx\n",
            "│   ├── root.tsx\n",
            "│   └── routes\n",
            "│       └── index.tsx\n",
            "├── package-lock.json\n",
            "├── package.json\n",
            "├── public\n",
            "│   └── favicon.ico\n",
            "├── remix.config.js\n",
            "├── remix.env.d.ts\n",
            "└── tsconfig.json"
          ]
        },
        {
          "output_type": "display_data",
          "data": {
            "text/plain": [
              "<IPython.core.display.Markdown object>"
            ],
            "text/markdown": "# 3. [類似のコンテキスト]"
          },
          "metadata": {}
        },
        {
          "output_type": "display_data",
          "data": {
            "text/plain": [
              "<IPython.core.display.Markdown object>"
            ],
            "text/markdown": "[git-hub]: https://github.com/remix-run/remix"
          },
          "metadata": {}
        },
        {
          "output_type": "display_data",
          "data": {
            "text/plain": [
              "<IPython.core.display.Markdown object>"
            ],
            "text/markdown": "Once the `npm install` has completed, we'll change into the `remix-jokes` directory:\n\n💿 Run this command\n\n```sh\ncd remix-jokes\n```\n\nNow you're in the `remix-jokes` directory. All other commands you run from here on out will be in that directory.\n\n💿 Great, now open that up in your favorite editor and let's explore the project structure a bit.\n\n## Explore the project structure\n\nHere's the tree structure. Hopefully what you've got looks a bit like this:\n\n```\nremix-jokes\n├── README.md\n├── app\n│   ├── entry.client.tsx\n│   ├── entry.server.tsx\n│   ├── root.tsx\n│   └── routes\n│       └── index.tsx\n├── package-lock.json\n├── package.json\n├── public\n│   └── favicon.ico\n├── remix.config.js\n├── remix.env.d.ts\n└── tsconfig.json\n```\n\nLet's talk briefly about a few of these files:"
          },
          "metadata": {}
        },
        {
          "output_type": "display_data",
          "data": {
            "text/plain": [
              "<IPython.core.display.Markdown object>"
            ],
            "text/markdown": "Remix examples have moved into a dedicated repository. [See `remix-run/examples`](https://github.com/remix-run/examples) to browse or contribute new example projects!"
          },
          "metadata": {}
        },
        {
          "output_type": "display_data",
          "data": {
            "text/plain": [
              "<IPython.core.display.Markdown object>"
            ],
            "text/markdown": "Remix's job is to cross the center of the stack and then get out of your way. We avoid as many \"Remixisms\" as possible and instead make it easier to use the standard APIs the web already has.\n\nThis one is more for us. We've been educators for the 5 years before Remix. Our tagline is _Build Better Websites_. We also think of it with a little extra on the end: _Build Better Websites, Sometimes with Remix_. If you get good at Remix, you will accidentally get good at web development in general.\n\nRemix's APIs make it convenient to use the fundamental Browser/HTTP/JavaScript, but those technologies are not hidden from you."
          },
          "metadata": {}
        }
      ]
    },
    {
      "cell_type": "code",
      "source": [
        "chat_history = []\n",
        "question = \"root.tsxのサンプルを示してください\"\n",
        "display(Markdown(f\"# 1. [質問] \\n## {question}\"))\n",
        "display(Markdown(\"# 2. [回答]\"))\n",
        "result = qa({\"question\": question, \"chat_history\": chat_history})\n",
        "#chat_history.append((question, result[\"answer\"]))\n",
        "\n",
        "display(Markdown(\"# 3. [類似のコンテキスト]\"))\n",
        "for context in vectorstore.similarity_search(question):\n",
        "    display(Markdown(context.page_content))"
      ],
      "metadata": {
        "colab": {
          "base_uri": "https://localhost:8080/",
          "height": 1000
        },
        "id": "AocgnI_UszcS",
        "outputId": "a3acc827-b559-4867-d006-f68065a646b4"
      },
      "execution_count": 55,
      "outputs": [
        {
          "output_type": "display_data",
          "data": {
            "text/plain": [
              "<IPython.core.display.Markdown object>"
            ],
            "text/markdown": "# 1. [質問] \n## root.tsxのサンプルを示してください"
          },
          "metadata": {}
        },
        {
          "output_type": "display_data",
          "data": {
            "text/plain": [
              "<IPython.core.display.Markdown object>"
            ],
            "text/markdown": "# 2. [回答]"
          },
          "metadata": {}
        },
        {
          "output_type": "stream",
          "name": "stdout",
          "text": [
            "The sample code for `root.jsx` is already provided in the given context. Here it is again:\n",
            "\n",
            "```jsx\n",
            "import { Outlet } from \"@remix-run/react\";\n",
            "\n",
            "export default function Root() {\n",
            "  return (\n",
            "    <html lang=\"en\">\n",
            "      <head>\n",
            "        <meta charSet=\"utf-8\" />\n",
            "        <link rel=\"icon\" href=\"/favicon.ico\" />\n",
            "        <meta\n",
            "          name=\"viewport\"\n",
            "          content=\"width=device-width, initial-scale=1\"\n",
            "        />\n",
            "        <meta name=\"theme-color\" content=\"#000000\" />\n",
            "        <meta\n",
            "          name=\"description\"\n",
            "          content=\"My beautiful React app\"\n",
            "        />\n",
            "        <link rel=\"apple-touch-icon\" href=\"/logo192.png\" />\n",
            "        <link rel=\"manifest\" href=\"/manifest.json\" />\n",
            "        <title>My React App</title>\n",
            "      </head>\n",
            "      <body>\n",
            "        <div id=\"root\">\n",
            "          <Outlet />\n",
            "        </div>\n",
            "      </body>\n",
            "    </html>\n",
            "  );\n",
            "}\n",
            "```"
          ]
        },
        {
          "output_type": "display_data",
          "data": {
            "text/plain": [
              "<IPython.core.display.Markdown object>"
            ],
            "text/markdown": "# 3. [類似のコンテキスト]"
          },
          "metadata": {}
        },
        {
          "output_type": "display_data",
          "data": {
            "text/plain": [
              "<IPython.core.display.Markdown object>"
            ],
            "text/markdown": "```js filename=root.jsx\nimport { Outlet } from \"@remix-run/react\";\n\nexport default function Root() {\n  return (\n    <html lang=\"en\">\n      <head>\n        <meta charSet=\"utf-8\" />\n        <link rel=\"icon\" href=\"/favicon.ico\" />\n        <meta\n          name=\"viewport\"\n          content=\"width=device-width, initial-scale=1\"\n        />\n        <meta name=\"theme-color\" content=\"#000000\" />\n        <meta\n          name=\"description\"\n          content=\"My beautiful React app\"\n        />\n        <link rel=\"apple-touch-icon\" href=\"/logo192.png\" />\n        <link rel=\"manifest\" href=\"/manifest.json\" />\n        <title>My React App</title>\n      </head>\n      <body>\n        <div id=\"root\">\n          <Outlet />\n        </div>\n      </body>\n    </html>\n  );\n}\n```\n\nNotice a few things here:"
          },
          "metadata": {}
        },
        {
          "output_type": "display_data",
          "data": {
            "text/plain": [
              "<IPython.core.display.Markdown object>"
            ],
            "text/markdown": "export default function Root() {\n              return (\n                <html>\n                  <body>\n                    ${HOME_PAGE_TEXT}\n                    <Outlet />\n                  </body>\n                </html>\n              );\n            }\n          `,\n          \"app/routes/redirect.jsx\": js`\n            import { redirect } from \"@remix-run/node\";\n            export const loader = () => redirect(\"/redirect-target\");\n            export default () => <div>Yo</div>\n          `,\n          \"app/routes/redirect-target.jsx\": js`\n            export default () => <div>${REDIRECT_TARGET_TEXT}</div>\n          `,\n          \"app/routes/fetch.jsx\": js`\n            export function loader({ request }) {\n              return fetch(new URL(request.url).origin + '/fetch-target');\n            }"
          },
          "metadata": {}
        },
        {
          "output_type": "display_data",
          "data": {
            "text/plain": [
              "<IPython.core.display.Markdown object>"
            ],
            "text/markdown": "```jsx filename=root.jsx lines=[1,4,6-15,31]\nimport { Links } from \"@remix-run/react\";\n\nimport App from \"./app\";\nimport stylesheetUrl from \"./styles.css\";\n\nexport function links() {\n  // `links` returns an array of objects whose\n  // properties map to the `<link />` component props\n  return [\n    { rel: \"icon\", href: \"/favicon.ico\" },\n    { rel: \"apple-touch-icon\", href: \"/logo192.png\" },\n    { rel: \"manifest\", href: \"/manifest.json\" },\n    { rel: \"stylesheet\", href: stylesheetUrl },\n  ];\n}"
          },
          "metadata": {}
        },
        {
          "output_type": "display_data",
          "data": {
            "text/plain": [
              "<IPython.core.display.Markdown object>"
            ],
            "text/markdown": "The root route (or the \"root root\" if you're Wes Bos) is responsible for providing the structure of the application. Its default export is a component that renders the full HTML tree that every other route loads and depends on. Think of it as the scaffold or shell of your app.\n\nIn a client-rendered app, you will have an index HTML file that includes the DOM node for mounting your React app. The root route will render markup that mirrors the structure of this file.\n\nCreate a new file called `root.jsx` (or `root.tsx`) in your `app` directory. The contents of that file will vary, but let's assume that your `index.html` looks something like this:"
          },
          "metadata": {}
        }
      ]
    }
  ]
}